{
 "cells": [
  {
   "cell_type": "code",
   "execution_count": 25,
   "metadata": {},
   "outputs": [],
   "source": [
    "from bs4 import BeautifulSoup\n",
    "from tqdm import tqdm\n",
    "from pathlib import Path\n",
    "from IPython.display import clear_output\n",
    "import json\n",
    "import os\n",
    "import re\n",
    "import requests"
   ]
  },
  {
   "cell_type": "code",
   "execution_count": 11,
   "metadata": {},
   "outputs": [],
   "source": [
    "with open(\"auth.json\") as f:\n",
    "    AUTH = json.load(f)"
   ]
  },
  {
   "cell_type": "code",
   "execution_count": 12,
   "metadata": {},
   "outputs": [],
   "source": [
    "HEADERS = AUTH[\"HEADERS\"]\n",
    "COOKIES = AUTH[\"COOKIES\"]"
   ]
  },
  {
   "cell_type": "code",
   "execution_count": 13,
   "metadata": {},
   "outputs": [],
   "source": [
    "def get_id(url):\n",
    "    return int(re.search(r\"schematic/(\\d+)\", url).group(1))"
   ]
  },
  {
   "cell_type": "code",
   "execution_count": 14,
   "metadata": {},
   "outputs": [],
   "source": [
    "url = \"https://www.minecraft-schematics.com/most-downloaded/\""
   ]
  },
  {
   "cell_type": "markdown",
   "metadata": {},
   "source": [
    "## Download all schematics from a page"
   ]
  },
  {
   "cell_type": "code",
   "execution_count": 15,
   "metadata": {},
   "outputs": [],
   "source": [
    "def get_links(url):\n",
    "    r = requests.get(url, headers=HEADERS, cookies=COOKIES)\n",
    "    soup = BeautifulSoup(r.text, \"html.parser\")\n",
    "    # Get all the download buttons\n",
    "    download_buttons = soup.find_all(\"a\", class_=\"btn btn-primary\")\n",
    "\n",
    "    # Get links from the buttons\n",
    "    links = [button.get(\"href\") for button in download_buttons]\n",
    "    links = [f\"https://www.minecraft-schematics.com{link}\" for link in links]\n",
    "    \n",
    "    return links"
   ]
  },
  {
   "cell_type": "code",
   "execution_count": 21,
   "metadata": {},
   "outputs": [],
   "source": [
    "def download_schematic(url, path=\"schematics\"):\n",
    "    r = requests.get(f\"{url}download/action/\", headers=HEADERS, cookies=COOKIES, params={\"type\": \"schematic\"})\n",
    "    \n",
    "    # Get the ID from the URL\n",
    "    id = get_id(url)\n",
    "\n",
    "    filename = f\"{id}.schematic\"\n",
    "\n",
    "    # Create the path if it doesn't exist\n",
    "    Path(path).mkdir(parents=True, exist_ok=True)\n",
    "\n",
    "    # Save the file\n",
    "    with open(os.path.join(path, filename), \"wb\") as f:\n",
    "        f.write(r.content)\n",
    "    "
   ]
  },
  {
   "attachments": {},
   "cell_type": "markdown",
   "metadata": {},
   "source": [
    "## Get metadata for a schematic given the URL"
   ]
  },
  {
   "cell_type": "code",
   "execution_count": null,
   "metadata": {},
   "outputs": [],
   "source": [
    "url = 'https://www.minecraft-schematics.com/schematic/14774/'"
   ]
  },
  {
   "cell_type": "code",
   "execution_count": 23,
   "metadata": {},
   "outputs": [],
   "source": [
    "def get_metadata(url):\n",
    "    r = requests.get(url)\n",
    "    soup = BeautifulSoup(r.text, \"html.parser\")\n",
    "    # Find all table rows on the page\n",
    "    rows = soup.find_all(\"tr\")\n",
    "    \n",
    "    # Iterate over them, extracting key-value pairs\n",
    "    metadata = dict()\n",
    "    for row in rows[:7]:\n",
    "        cols = row.find_all(\"td\")\n",
    "        cols = [ele.text.strip() for ele in cols]\n",
    "        metadata[cols[0]] = cols[1]\n",
    "    \n",
    "    return metadata"
   ]
  },
  {
   "cell_type": "code",
   "execution_count": null,
   "metadata": {},
   "outputs": [
    {
     "data": {
      "text/plain": [
       "{'Rating': 'Rated 3.9 from 122 votes',\n",
       " 'Category': 'Castles',\n",
       " 'Theme': 'Medieval',\n",
       " 'Size': 'Huge',\n",
       " 'Submitted by': 'xKomi',\n",
       " 'Posted on': 'July 2nd, 2020 09:02 AM EST',\n",
       " 'Download(s)': 'Has been downloaded 9031 times'}"
      ]
     },
     "execution_count": 88,
     "metadata": {},
     "output_type": "execute_result"
    }
   ],
   "source": [
    "get_metadata(url)"
   ]
  },
  {
   "attachments": {},
   "cell_type": "markdown",
   "metadata": {},
   "source": [
    "## Download multiple pages"
   ]
  },
  {
   "cell_type": "code",
   "execution_count": 17,
   "metadata": {},
   "outputs": [],
   "source": [
    "NUM_PAGES = 10"
   ]
  },
  {
   "cell_type": "code",
   "execution_count": 26,
   "metadata": {},
   "outputs": [],
   "source": [
    "for _, i in enumerate(range(1, NUM_PAGES)):\n",
    "    url = f\"https://www.minecraft-schematics.com/most-downloaded/{i}/\"\n",
    "    schematics = get_links(url)\n",
    "    print(f\"Page {i}: {len(schematics)} schematics\")\n",
    "    for url in tqdm(schematics):\n",
    "        metadata = get_metadata(url)\n",
    "        download_schematic(url, path=f\"schematics/{metadata['Category']}\")\n",
    "    \n",
    "    clear_output()"
   ]
  }
 ],
 "metadata": {
  "kernelspec": {
   "display_name": "base",
   "language": "python",
   "name": "python3"
  },
  "language_info": {
   "codemirror_mode": {
    "name": "ipython",
    "version": 3
   },
   "file_extension": ".py",
   "mimetype": "text/x-python",
   "name": "python",
   "nbconvert_exporter": "python",
   "pygments_lexer": "ipython3",
   "version": "3.9.7"
  },
  "orig_nbformat": 4,
  "vscode": {
   "interpreter": {
    "hash": "c486f40a97bc38aee9a8c3fe2867a0df43683e2c3617bc94fad2c8fb76f2334e"
   }
  }
 },
 "nbformat": 4,
 "nbformat_minor": 2
}
