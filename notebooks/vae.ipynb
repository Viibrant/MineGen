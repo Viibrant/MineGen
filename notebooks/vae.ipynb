{
 "cells": [
  {
   "cell_type": "code",
   "execution_count": 1,
   "metadata": {},
   "outputs": [],
   "source": [
    "import os\n",
    "import pathlib\n",
    "\n",
    "# make sure current directory is MineGen\n",
    "if pathlib.Path.cwd().name != \"MineGen\":\n",
    "    os.chdir(\"..\")\n",
    "\n",
    "assert pathlib.Path.cwd().name == \"MineGen\""
   ]
  },
  {
   "cell_type": "code",
   "execution_count": 2,
   "metadata": {},
   "outputs": [
    {
     "name": "stderr",
     "output_type": "stream",
     "text": [
      "c:\\Users\\connor\\miniconda3\\lib\\site-packages\\tqdm\\auto.py:22: TqdmWarning: IProgress not found. Please update jupyter and ipywidgets. See https://ipywidgets.readthedocs.io/en/stable/user_install.html\n",
      "  from .autonotebook import tqdm as notebook_tqdm\n"
     ]
    }
   ],
   "source": [
    "import numpy as np\n",
    "import torch\n",
    "import torch.nn as nn\n",
    "import torch.nn.functional as F\n",
    "import pytorch_lightning as pl\n",
    "from data.datasets.schematics import SchematicDataModule, SchematicDataset\n",
    "from einops.layers.torch import Rearrange\n",
    "from nbtschematic import SchematicFile"
   ]
  },
  {
   "cell_type": "code",
   "execution_count": 3,
   "metadata": {},
   "outputs": [],
   "source": [
    "class ResidualBlock(nn.Module):\n",
    "    def __init__(\n",
    "        self,\n",
    "        in_channels,\n",
    "        out_channels,\n",
    "        kernel_size,\n",
    "        stride=1,\n",
    "        activation=nn.GELU,\n",
    "        norm=nn.BatchNorm3d,\n",
    "    ):\n",
    "        super().__init__()\n",
    "        self.block = nn.Sequential(\n",
    "            nn.ConvTranspose3d(\n",
    "                in_channels,\n",
    "                out_channels,\n",
    "                kernel_size,\n",
    "                stride,\n",
    "                padding=kernel_size // 2,\n",
    "                bias=False,\n",
    "            ),\n",
    "            norm(out_channels),\n",
    "            activation(),\n",
    "            nn.ConvTranspose3d(out_channels, out_channels, kernel_size, bias=False),\n",
    "            norm(out_channels),\n",
    "        )\n",
    "        self.shortcut = nn.Sequential(\n",
    "            nn.ConvTranspose3d(\n",
    "                in_channels, out_channels, kernel_size=1, stride=stride, bias=False\n",
    "            ),\n",
    "            norm(out_channels),\n",
    "        )\n",
    "\n",
    "    def forward(self, x):\n",
    "        return self.block(x) + self.shortcut(x)"
   ]
  },
  {
   "cell_type": "code",
   "execution_count": 84,
   "metadata": {},
   "outputs": [],
   "source": [
    "class VAE(pl.LightningModule):\n",
    "    def __init__(self, latent_dim, num_blocks, embedding_size, num_categories):\n",
    "        super().__init__()\n",
    "        self.latent_dim = latent_dim\n",
    "\n",
    "        # Encoder\n",
    "        self.embedding = nn.Embedding(num_blocks, embedding_size)\n",
    "        self.encoder = nn.Sequential(\n",
    "            nn.Conv3d(embedding_size, 8, kernel_size=3, stride=2, padding=1),\n",
    "            nn.BatchNorm3d(8),\n",
    "            nn.GELU(),\n",
    "            nn.Conv3d(8, 16, kernel_size=3, stride=2, padding=1),\n",
    "            nn.BatchNorm3d(16),\n",
    "            nn.GELU(),\n",
    "            nn.Conv3d(16, 32, kernel_size=3, stride=2, padding=0),\n",
    "            nn.BatchNorm3d(32),\n",
    "            nn.GELU(),\n",
    "            nn.Flatten(),\n",
    "            nn.LazyLinear(128),\n",
    "            nn.GELU(),\n",
    "        )\n",
    "        self.linear_mu = nn.Linear(128, latent_dim)\n",
    "        self.linear_logvar = nn.Linear(128, latent_dim)\n",
    "\n",
    "        # Decoder\n",
    "        self.decoder = nn.Sequential(\n",
    "            nn.Linear(latent_dim, 128),\n",
    "            nn.GELU(),\n",
    "            Rearrange(\"b (d c h w) -> b c d h w\", c=128, d=1, h=1, w=1),\n",
    "            ResidualBlock(128, 32, 1, stride=1),\n",
    "            ResidualBlock(32, 16, 3, stride=3),\n",
    "            nn.ConvTranspose3d(16, 8, 3, stride=3, padding=1),\n",
    "            nn.BatchNorm3d(8),\n",
    "            nn.GELU(),\n",
    "            nn.ConvTranspose3d(\n",
    "                8, embedding_size, 3, stride=2, padding=0, output_padding=1\n",
    "            ),\n",
    "        )\n",
    "\n",
    "        self.category_predictor = nn.Linear(latent_dim, num_categories)\n",
    "\n",
    "    def encode(self, x):\n",
    "        x = self.embedding(x)\n",
    "        x = x.permute(\n",
    "            0, 4, 1, 2, 3\n",
    "        )  # Move the embedding dimension to the channel dimension\n",
    "        x = self.encoder(x)\n",
    "        mu = self.linear_mu(x)\n",
    "        logvar = self.linear_logvar(x)\n",
    "        return mu, logvar\n",
    "\n",
    "    def reparameterize(self, mu, logvar):\n",
    "        std = torch.exp(0.5 * logvar)\n",
    "        eps = torch.randn_like(std)\n",
    "        return mu + eps * std\n",
    "\n",
    "    def decode(self, z):\n",
    "        x = self.decoder(z)\n",
    "        # x = x.permute(0, 2, 3, 4, 1)  # Move the embedding dimension back to the end\n",
    "        return x\n",
    "\n",
    "    def forward(self, x):\n",
    "        x_mu, logvar = self.encode(x)\n",
    "        z = self.reparameterize(x_mu, logvar)\n",
    "        recon_x = self.decode(z)\n",
    "        category_logits = self.category_predictor(z)\n",
    "        return recon_x, category_logits, x_mu, logvar\n",
    "\n",
    "    def training_step(self, batch, batch_idx):\n",
    "        x, y = batch\n",
    "        recon_x, category_logits, x_mu, logvar = self(x)\n",
    "        # recon_loss = F.cross_entropy(recon_x.view(-1, recon_x.shape[-1]), x.view(-1), reduction='sum')\n",
    "        recon_loss = F.cross_entropy(recon_x, x)\n",
    "        category_loss = F.cross_entropy(category_logits, y)\n",
    "        kld_loss = -0.5 * torch.sum(1 + logvar - x_mu.pow(2) - logvar.exp())\n",
    "        loss = recon_loss + kld_loss + category_loss\n",
    "        self.log(\"train/train_loss\", loss)\n",
    "        self.log(\"train/recon_loss\", recon_loss)\n",
    "        self.log(\"train/kld_loss\", kld_loss)\n",
    "        self.log(\"train/category_loss\", category_loss)\n",
    "        \n",
    "        return loss\n",
    "\n",
    "    def validation_step(self, batch, batch_idx):\n",
    "        x, y = batch\n",
    "        recon_x, category_logits, x_mu, logvar = self(x)\n",
    "        # recon_loss = F.cross_entropy(recon_x.view(-1, recon_x.shape[-1]), x.view(-1), reduction='sum')\n",
    "        recon_loss = F.cross_entropy(recon_x, x)\n",
    "        category_loss = F.cross_entropy(category_logits, y)\n",
    "        kld_loss = -0.5 * torch.sum(1 + logvar - x_mu.pow(2) - logvar.exp())\n",
    "        loss = recon_loss + kld_loss + category_loss\n",
    "        self.log(\"val/val_loss\", loss)\n",
    "        self.log(\"val/recon_loss\", recon_loss)\n",
    "        self.log(\"val/kld_loss\", kld_loss)\n",
    "        self.log(\"val/category_loss\", category_loss)\n",
    "        return loss\n",
    "\n",
    "    def configure_optimizers(self):\n",
    "        optimizer = torch.optim.Adam(self.parameters(), lr=1e-3)\n",
    "        return optimizer"
   ]
  },
  {
   "attachments": {},
   "cell_type": "markdown",
   "metadata": {},
   "source": [
    "## Training"
   ]
  },
  {
   "cell_type": "code",
   "execution_count": 85,
   "metadata": {},
   "outputs": [],
   "source": [
    "categories = dm.train_dataset.dataset.enc.categories_[0]"
   ]
  },
  {
   "cell_type": "code",
   "execution_count": 15,
   "metadata": {},
   "outputs": [
    {
     "name": "stderr",
     "output_type": "stream",
     "text": [
      "GPU available: True (cuda), used: True\n",
      "TPU available: False, using: 0 TPU cores\n",
      "IPU available: False, using: 0 IPUs\n",
      "HPU available: False, using: 0 HPUs\n"
     ]
    }
   ],
   "source": [
    "dm = SchematicDataModule(batch_size=128)\n",
    "trainer = pl.Trainer(max_epochs=10, accelerator=\"gpu\", log_every_n_steps=1)\n",
    "model = VAE(64, 512, 512, len(categories))\n",
    "trainer.fit(model, dm)"
   ]
  },
  {
   "cell_type": "code",
   "execution_count": null,
   "metadata": {},
   "outputs": [
    {
     "name": "stderr",
     "output_type": "stream",
     "text": [
      "GPU available: True (cuda), used: True\n",
      "TPU available: False, using: 0 TPU cores\n",
      "IPU available: False, using: 0 IPUs\n",
      "HPU available: False, using: 0 HPUs\n",
      "c:\\Users\\connor\\miniconda3\\lib\\site-packages\\torch\\nn\\modules\\lazy.py:180: UserWarning: Lazy modules are a new feature under heavy development so changes to the API or functionality can happen at any moment.\n",
      "  warnings.warn('Lazy modules are a new feature under heavy development '\n",
      "LOCAL_RANK: 0 - CUDA_VISIBLE_DEVICES: [0]\n",
      "\n",
      "  | Name               | Type       | Params\n",
      "--------------------------------------------------\n",
      "0 | embedding          | Embedding  | 262 K \n",
      "1 | encoder            | Sequential | 127 K \n",
      "2 | linear_mu          | Linear     | 8.3 K \n",
      "3 | linear_logvar      | Linear     | 8.3 K \n",
      "4 | decoder            | Sequential | 153 K \n",
      "5 | category_predictor | Linear     | 1.1 K \n",
      "--------------------------------------------------\n",
      "561 K     Trainable params\n",
      "0         Non-trainable params\n",
      "561 K     Total params\n",
      "2.246     Total estimated model params size (MB)\n"
     ]
    },
    {
     "name": "stdout",
     "output_type": "stream",
     "text": [
      "Epoch 1999: 100%|██████████| 2/2 [00:08<00:00,  4.43s/it, v_num=235]        "
     ]
    },
    {
     "name": "stderr",
     "output_type": "stream",
     "text": [
      "`Trainer.fit` stopped: `max_epochs=2000` reached.\n"
     ]
    },
    {
     "name": "stdout",
     "output_type": "stream",
     "text": [
      "Epoch 1999: 100%|██████████| 2/2 [00:08<00:00,  4.45s/it, v_num=235]\n"
     ]
    }
   ],
   "source": [
    "trainer = pl.Trainer(max_epochs=2000, accelerator=\"gpu\", log_every_n_steps=1)\n",
    "dm = SchematicDataModule(batch_size=128)\n",
    "model = VAE(64, 512, 512, 17)\n",
    "trainer.fit(model, dm)"
   ]
  },
  {
   "attachments": {},
   "cell_type": "markdown",
   "metadata": {},
   "source": [
    "## Evaluation"
   ]
  },
  {
   "cell_type": "code",
   "execution_count": 73,
   "metadata": {},
   "outputs": [],
   "source": [
    "# inference example\n",
    "x, y = next(iter(dm.val_dataloader()))\n",
    "recon_x, category_logits, x_mu, logvar = model(x)"
   ]
  },
  {
   "cell_type": "code",
   "execution_count": 74,
   "metadata": {},
   "outputs": [
    {
     "name": "stdout",
     "output_type": "stream",
     "text": [
      "Unique blocks in input: tensor([  0,   3,  35, 104])\n",
      "Unique blocks in output: tensor([ 0,  1,  2,  4,  5,  6,  7, 12, 15])\n",
      "Category: tensor([11, 17, 13,  9,  3, 14, 18, 15, 15, 10, 10, 15, 11,  3, 10, 11, 11, 15,\n",
      "        15, 13, 11, 15, 11, 11, 18,  4, 13, 15, 13, 15,  0, 11, 11, 13, 11, 11,\n",
      "         5, 11, 13, 11, 13, 11, 16, 13,  9,  1, 13, 11, 15, 15, 11,  5, 13, 10,\n",
      "        11, 11,  9, 15, 15, 13, 11, 13, 11, 10, 15, 14, 11,  9, 15, 13, 13, 11,\n",
      "        15, 15, 11, 13, 13, 10, 13, 15, 14,  3, 13, 10, 10, 11, 15, 15, 15,  5,\n",
      "        15, 11, 15, 11, 15, 11,  5, 13, 15,  1, 10, 15, 17, 16, 17, 13,  4, 15,\n",
      "         3, 13, 11, 15, 10, 13, 11, 13,  8, 11, 15, 13, 13, 15, 15, 11, 11, 11,\n",
      "        11, 13])\n",
      "Predicted category: tensor([10, 13, 15,  5, 14, 13, 13, 19, 15, 14, 11, 11,  4, 10, 15, 15, 17, 14,\n",
      "         4, 13, 17,  8, 14, 11,  4,  0, 13,  4, 13, 10,  8, 15, 15,  0, 11, 11,\n",
      "        13,  9, 17, 10,  7, 10,  9,  3, 14,  8, 14, 10, 17, 14, 15,  9,  7,  9,\n",
      "        18,  3, 15, 13,  5, 15, 17,  9, 19,  8, 13, 11, 13,  8, 14, 13,  1, 11,\n",
      "        15,  5, 11, 14, 15,  9, 17, 13, 15,  7, 11, 15, 17, 12, 15,  4, 11, 14,\n",
      "        13,  7, 11,  3, 15, 13,  8, 13,  7, 11, 16, 15, 13, 17,  8, 16, 16, 15,\n",
      "        13, 13, 15,  8, 13, 13, 14, 10, 13, 11,  9, 15, 11, 10, 15, 11, 13, 10,\n",
      "        14, 14])\n"
     ]
    }
   ],
   "source": [
    "print(f\"Unique blocks in input: {torch.unique(x[i:=5])}\")\n",
    "print(f\"Unique blocks in output: {torch.unique(torch.argmax(recon_x[i], dim=1))}\")\n",
    "print(f\"Category: {torch.argmax(y, dim=1)}\")\n",
    "print(f\"Predicted category: {torch.argmax(category_logits, dim=1)}\")"
   ]
  },
  {
   "cell_type": "code",
   "execution_count": 75,
   "metadata": {},
   "outputs": [],
   "source": [
    "# map predicted category to category name\n",
    "enc = dm.train_dataset.dataset.enc\n",
    "y_pred = enc.inverse_transform(category_logits.detach().numpy()).reshape(-1)\n",
    "y_gt = enc.inverse_transform(y.detach().numpy()).reshape(-1)"
   ]
  },
  {
   "cell_type": "code",
   "execution_count": 82,
   "metadata": {},
   "outputs": [
    {
     "data": {
      "image/png": "[encoded data removed]",
      "text/plain": [
       "<Figure size 640x480 with 1 Axes>"
      ]
     },
     "metadata": {},
     "output_type": "display_data"
    }
   ],
   "source": [
    "from sklearn.metrics import confusion_matrix, ConfusionMatrixDisplay\n",
    "import seaborn as sns\n",
    "\n",
    "# Confusion matrix\n",
    "\n",
    "cm = confusion_matrix(y_gt, y_pred)\n",
    "g = sns.heatmap(\n",
    "    cm,\n",
    "    cbar=False,\n",
    "    annot=True,\n",
    "    fmt=\"d\",\n",
    "    xticklabels=enc.categories_[0],\n",
    "    yticklabels=enc.categories_[0],\n",
    ")"
   ]
  },
  {
   "cell_type": "code",
   "execution_count": 54,
   "metadata": {},
   "outputs": [
    {
     "ename": "TypeError",
     "evalue": "can't convert np.ndarray of type numpy.object_. The only supported types are: float64, float32, float16, complex64, complex128, int64, int32, int16, int8, uint8, and bool.",
     "output_type": "error",
     "traceback": [
      "\u001b[1;31m---------------------------------------------------------------------------\u001b[0m",
      "\u001b[1;31mTypeError\u001b[0m                                 Traceback (most recent call last)",
      "Cell \u001b[1;32mIn[54], line 1\u001b[0m\n\u001b[1;32m----> 1\u001b[0m torch\u001b[39m.\u001b[39munique(torch\u001b[39m.\u001b[39;49mtensor(y_pred))\n",
      "\u001b[1;31mTypeError\u001b[0m: can't convert np.ndarray of type numpy.object_. The only supported types are: float64, float32, float16, complex64, complex128, int64, int32, int16, int8, uint8, and bool."
     ]
    }
   ],
   "source": [
    "torch.unique(torch.tensor(y_pred.reshape()))"
   ]
  },
  {
   "cell_type": "code",
   "execution_count": null,
   "metadata": {},
   "outputs": [],
   "source": []
  },
  {
   "cell_type": "code",
   "execution_count": null,
   "metadata": {},
   "outputs": [
    {
     "data": {
      "text/plain": [
       "tensor([12, 12, 12,  9,  9,  9,  9,  9, 12,  9,  9,  9,  9,  9,  9,  9,  9,  9,\n",
       "        12, 12,  9,  9, 12,  9,  9,  9,  9,  9,  9,  9,  9,  9,  9,  9,  9,  9,\n",
       "         9,  9,  9,  9, 12, 12,  9])"
      ]
     },
     "execution_count": 175,
     "metadata": {},
     "output_type": "execute_result"
    }
   ],
   "source": [
    "torch.argmax(category_logits, dim=1)"
   ]
  },
  {
   "cell_type": "code",
   "execution_count": null,
   "metadata": {},
   "outputs": [],
   "source": [
    "# save model\n",
    "torch.save(model.state_dict(), \"vae.pt\")"
   ]
  },
  {
   "cell_type": "code",
   "execution_count": null,
   "metadata": {},
   "outputs": [
    {
     "data": {
      "text/plain": [
       "tensor([0])"
      ]
     },
     "execution_count": 27,
     "metadata": {},
     "output_type": "execute_result"
    }
   ],
   "source": [
    "torch.argmax(recon_x, dim=1).unique()"
   ]
  },
  {
   "cell_type": "code",
   "execution_count": null,
   "metadata": {},
   "outputs": [
    {
     "data": {
      "text/plain": [
       "torch.Size([43, 16, 16, 16])"
      ]
     },
     "execution_count": 219,
     "metadata": {},
     "output_type": "execute_result"
    }
   ],
   "source": [
    "torch.argmax(recon_x, dim=1).shape"
   ]
  },
  {
   "cell_type": "code",
   "execution_count": null,
   "metadata": {},
   "outputs": [
    {
     "data": {
      "text/plain": [
       "torch.Size([43, 256, 16, 16, 16])"
      ]
     },
     "execution_count": 218,
     "metadata": {},
     "output_type": "execute_result"
    }
   ],
   "source": [
    "recon_x.shape"
   ]
  },
  {
   "cell_type": "code",
   "execution_count": null,
   "metadata": {},
   "outputs": [],
   "source": [
    "sf = SchematicFile(shape=(16, 16, 16), blocks=torch.argmax(recon_x, dim=1)[5].numpy())"
   ]
  },
  {
   "cell_type": "code",
   "execution_count": null,
   "metadata": {},
   "outputs": [
    {
     "data": {
      "text/plain": [
       "tensor([0])"
      ]
     },
     "execution_count": 231,
     "metadata": {},
     "output_type": "execute_result"
    }
   ],
   "source": [
    "torch.unique(torch.argmax(recon_x, dim=1))"
   ]
  },
  {
   "cell_type": "code",
   "execution_count": null,
   "metadata": {},
   "outputs": [
    {
     "data": {
      "text/plain": [
       "tensor([[[  2,   2,   2,  ...,   0,   0,   0],\n",
       "         [  2,   2,   3,  ...,   0,   0,   0],\n",
       "         [  2,   2,   5,  ...,   0,   0,   0],\n",
       "         ...,\n",
       "         [  0,   0,   0,  ...,   0,   0,   0],\n",
       "         [  0,   0,   0,  ...,   0,   0,   0],\n",
       "         [  0,   0,   0,  ...,   0,   0,   0]],\n",
       "\n",
       "        [[  0,   0,   0,  ...,   0,   0,   0],\n",
       "         [  0,   0,   5,  ...,   0,   0,   0],\n",
       "         [  0, 109,  61,  ...,   0,   0,   0],\n",
       "         ...,\n",
       "         [  0,   0,   0,  ...,   0,   0,   0],\n",
       "         [  0,   0,   0,  ...,   0,   0,   0],\n",
       "         [  0,   0,   0,  ...,   0,   0,   0]],\n",
       "\n",
       "        [[  0,   0,   0,  ...,   0,   0,   0],\n",
       "         [  0,   0,   5,  ...,   0,   0,   0],\n",
       "         [  0, 109,   0,  ...,   0,   0,   0],\n",
       "         ...,\n",
       "         [  0,   0,   0,  ...,   0,   0,   0],\n",
       "         [  0,   0,   0,  ...,   0,   0,   0],\n",
       "         [  0,   0,   0,  ...,   0,   0,   0]],\n",
       "\n",
       "        ...,\n",
       "\n",
       "        [[  0,   0,   0,  ...,   0,   0,   0],\n",
       "         [  0,   0,   0,  ...,   0,   0,   0],\n",
       "         [  0,   0,   0,  ...,   0,   0,   0],\n",
       "         ...,\n",
       "         [  0,   0,   0,  ...,   0,   0,   0],\n",
       "         [  0,   0,   0,  ...,   0,   0,   0],\n",
       "         [  0,   0,   0,  ...,   0,   0,   0]],\n",
       "\n",
       "        [[  0,   0,   0,  ...,   0,   0,   0],\n",
       "         [  0,   0,   0,  ...,   0,   0,   0],\n",
       "         [  0,   0,   0,  ...,   0,   0,   0],\n",
       "         ...,\n",
       "         [  0,   0,   0,  ...,   0,   0,   0],\n",
       "         [  0,   0,   0,  ...,   0,   0,   0],\n",
       "         [  0,   0,   0,  ...,   0,   0,   0]],\n",
       "\n",
       "        [[  0,   0,   0,  ...,   0,   0,   0],\n",
       "         [  0,   0,   0,  ...,   0,   0,   0],\n",
       "         [  0,   0,   0,  ...,   0,   0,   0],\n",
       "         ...,\n",
       "         [  0,   0,   0,  ...,   0,   0,   0],\n",
       "         [  0,   0,   0,  ...,   0,   0,   0],\n",
       "         [  0,   0,   0,  ...,   0,   0,   0]]])"
      ]
     },
     "execution_count": 243,
     "metadata": {},
     "output_type": "execute_result"
    }
   ],
   "source": [
    "x[0]"
   ]
  },
  {
   "cell_type": "code",
   "execution_count": null,
   "metadata": {},
   "outputs": [
    {
     "data": {
      "text/plain": [
       "tensor([-9.7938e-05, -1.9896e-04,  2.9781e-04,  3.1382e-04, -2.2341e-05,\n",
       "         1.7537e-04,  3.5753e-04,  3.7152e-05,  5.2612e-05,  7.7568e-05,\n",
       "        -4.6708e-05,  1.0428e-04,  4.6038e-04,  9.5330e-05, -1.1713e-04,\n",
       "         6.6530e-05,  8.6896e-05,  3.2444e-05, -4.9794e-05,  1.7773e-04,\n",
       "        -1.8923e-05, -1.5575e-04,  2.0374e-04,  1.8984e-04, -3.7895e-04,\n",
       "        -3.4055e-05, -2.7430e-04,  1.9004e-04, -2.4338e-04,  8.8468e-05,\n",
       "         2.6061e-05,  4.5571e-05,  2.2324e-04, -6.4851e-05,  2.5643e-04,\n",
       "         3.1790e-04, -6.0193e-05, -1.6185e-04,  3.5550e-04,  2.6908e-04,\n",
       "        -2.3569e-04,  1.0586e-04,  1.5857e-04, -2.0472e-04, -1.7186e-04,\n",
       "         1.1450e-04, -3.2048e-04, -1.0984e-04, -4.2632e-05, -5.2167e-05,\n",
       "         1.1121e-04,  8.6391e-05, -2.1588e-04,  1.5632e-04,  2.2833e-04,\n",
       "        -1.5539e-05, -1.4213e-04,  6.0871e-06,  1.0831e-04, -1.2220e-04,\n",
       "        -4.7244e-05,  3.4053e-04, -3.4522e-04,  1.4331e-04],\n",
       "       grad_fn=<SelectBackward0>)"
      ]
     },
     "execution_count": 242,
     "metadata": {},
     "output_type": "execute_result"
    }
   ],
   "source": [
    "x_mu[0]"
   ]
  },
  {
   "cell_type": "code",
   "execution_count": null,
   "metadata": {},
   "outputs": [
    {
     "data": {
      "text/plain": [
       "(tensor([  0,   1,   2,   3,   4,   5,   7,   9,  11,  12,  13,  17,  18,  20,\n",
       "          23,  24,  25,  26,  27,  29,  31,  32,  33,  34,  35,  38,  39,  40,\n",
       "          41,  42,  43,  44,  47,  48,  49,  50,  53,  54,  55,  58,  59,  60,\n",
       "          61,  62,  63,  64,  65,  67,  68,  69,  70,  71,  72,  73,  75,  76,\n",
       "          77,  78,  79,  80,  81,  83,  85,  87,  89,  90,  91,  92,  93,  94,\n",
       "          95,  96,  97,  98,  99, 100, 101, 102, 104, 105, 106, 107, 109, 110,\n",
       "         111, 112, 113, 116, 117, 118, 119, 121, 122, 123, 124, 125, 126, 127]),\n",
       " tensor([160483,   1073,    680,    912,    993,   1232,    132,    399,     26,\n",
       "              6,     92,    434,     93,    243,      5,     89,      1,     10,\n",
       "              6,    107,     47,      3,     29,     52,    661,     32,      4,\n",
       "              4,     91,    248,    311,    501,     84,    677,     20,     68,\n",
       "            111,     62,    291,      7,      4,      6,     26,      2,     10,\n",
       "             12,     56,     92,     71,     15,     10,      4,      3,      6,\n",
       "             24,     28,     34,     54,     37,    241,     10,      6,    305,\n",
       "             11,     80,      3,      2,     83,     82,     10,    196,     74,\n",
       "            611,   1643,      3,     49,    878,    156,     16,      1,     27,\n",
       "             23,    147,     20,      2,      7,      7,     13,     16,      1,\n",
       "             53,      6,    208,      6,     18,     15,    285,      1]))"
      ]
     },
     "execution_count": 238,
     "metadata": {},
     "output_type": "execute_result"
    }
   ],
   "source": [
    "x.unique(return_counts=True)"
   ]
  },
  {
   "cell_type": "code",
   "execution_count": null,
   "metadata": {},
   "outputs": [],
   "source": [
    "sf.save(\"monkey.schematic\")"
   ]
  },
  {
   "cell_type": "code",
   "execution_count": null,
   "metadata": {},
   "outputs": [
    {
     "data": {
      "text/plain": [
       "tensor([ 0,  1,  2,  3,  4,  5,  6,  7,  8,  9, 10, 11, 12, 13, 14, 15])"
      ]
     },
     "execution_count": 212,
     "metadata": {},
     "output_type": "execute_result"
    }
   ],
   "source": [
    "torch.unique(torch.argmax(recon_x[5], dim=1))"
   ]
  },
  {
   "cell_type": "code",
   "execution_count": null,
   "metadata": {},
   "outputs": [
    {
     "data": {
      "text/plain": [
       "tensor([9, 9, 9, 9, 9, 9, 9, 9, 9, 9, 9, 9, 9, 9, 9, 9, 9, 9, 9, 9, 9, 9, 9, 9,\n",
       "        9, 9, 9, 9, 9, 9, 9, 9, 9, 9, 9, 9, 9, 9, 9, 9, 9, 9, 9])"
      ]
     },
     "execution_count": 27,
     "metadata": {},
     "output_type": "execute_result"
    }
   ],
   "source": [
    "torch.argmax(category_logits, dim=1)"
   ]
  },
  {
   "cell_type": "code",
   "execution_count": null,
   "metadata": {},
   "outputs": [
    {
     "data": {
      "text/plain": [
       "tensor([12, 15,  7, 12, 15, 10, 12,  9,  6, 10,  9, 12,  7, 12, 12,  9,  4,  9,\n",
       "         9,  9, 12, 12, 12, 10, 10,  3, 15, 10, 16, 11,  7,  7, 12,  9, 12, 12,\n",
       "         9, 10, 12, 12,  9,  9, 12])"
      ]
     },
     "execution_count": 26,
     "metadata": {},
     "output_type": "execute_result"
    }
   ],
   "source": [
    "torch.argmax(y, dim=1)"
   ]
  }
 ],
 "metadata": {
  "kernelspec": {
   "display_name": "base",
   "language": "python",
   "name": "python3"
  },
  "language_info": {
   "codemirror_mode": {
    "name": "ipython",
    "version": 3
   },
   "file_extension": ".py",
   "mimetype": "text/x-python",
   "name": "python",
   "nbconvert_exporter": "python",
   "pygments_lexer": "ipython3",
   "version": "3.10.9"
  },
  "orig_nbformat": 4
 },
 "nbformat": 4,
 "nbformat_minor": 2
}
